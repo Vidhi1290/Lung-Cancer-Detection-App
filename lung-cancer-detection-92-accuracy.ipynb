{
 "cells": [
  {
   "cell_type": "markdown",
   "id": "86d02fd4",
   "metadata": {
    "papermill": {
     "duration": 0.006677,
     "end_time": "2023-08-10T13:20:47.148490",
     "exception": false,
     "start_time": "2023-08-10T13:20:47.141813",
     "status": "completed"
    },
    "tags": []
   },
   "source": [
    "### Importing Necessary Libraries:\n",
    "\n",
    "1. **import pandas as pd:** Imports the pandas library and aliases it as pd for easier usage.\n",
    "1. **import numpy as np:** Imports the numpy library and aliases it as np.\n",
    "1. **from sklearn.model_selection import train_test_split:** Imports the train_test_split function from scikit-learn, which is used to split the dataset into training and testing sets.\n",
    "1. **from sklearn.preprocessing import LabelEncoder:** Imports the LabelEncoder class from scikit-learn, which is used for label encoding categorical variables.\n",
    "1. **from sklearn.ensemble import RandomForestClassifier:** Imports the RandomForestClassifier class from scikit-learn, which is an implementation of the random forest classification algorithm.\n",
    "1. **from sklearn.metrics import accuracy_score:** Imports the accuracy_score function from scikit-learn, which is used to compute the accuracy of the model's predictions."
   ]
  },
  {
   "cell_type": "code",
   "execution_count": 1,
   "id": "832be597",
   "metadata": {
    "execution": {
     "iopub.execute_input": "2023-08-10T13:20:47.162762Z",
     "iopub.status.busy": "2023-08-10T13:20:47.162343Z",
     "iopub.status.idle": "2023-08-10T13:20:49.017936Z",
     "shell.execute_reply": "2023-08-10T13:20:49.016946Z"
    },
    "id": "fWBok4IwY8VO",
    "outputId": "d9edc0be-9ad1-4e4e-c0b3-f206f302235a",
    "papermill": {
     "duration": 1.865837,
     "end_time": "2023-08-10T13:20:49.020662",
     "exception": false,
     "start_time": "2023-08-10T13:20:47.154825",
     "status": "completed"
    },
    "tags": []
   },
   "outputs": [
    {
     "name": "stderr",
     "output_type": "stream",
     "text": [
      "/opt/conda/lib/python3.10/site-packages/scipy/__init__.py:146: UserWarning: A NumPy version >=1.16.5 and <1.23.0 is required for this version of SciPy (detected version 1.23.5\n",
      "  warnings.warn(f\"A NumPy version >={np_minversion} and <{np_maxversion}\"\n"
     ]
    }
   ],
   "source": [
    "import pandas as pd\n",
    "import numpy as np\n",
    "from sklearn.model_selection import train_test_split\n",
    "from sklearn.preprocessing import LabelEncoder\n",
    "from sklearn.ensemble import RandomForestClassifier\n",
    "from sklearn.metrics import accuracy_score\n",
    "import joblib"
   ]
  },
  {
   "cell_type": "markdown",
   "id": "39351de2",
   "metadata": {
    "papermill": {
     "duration": 0.005956,
     "end_time": "2023-08-10T13:20:49.033068",
     "exception": false,
     "start_time": "2023-08-10T13:20:49.027112",
     "status": "completed"
    },
    "tags": []
   },
   "source": [
    "### Loading the Dataset:\n",
    "\n",
    "**data = pd.read_csv('/content/drive/MyDrive/lung_cancer_examples.csv'):** Reads a CSV file named \"lung_cancer_examples.csv\" located in your Google Drive and stores the data in a pandas DataFrame named data."
   ]
  },
  {
   "cell_type": "code",
   "execution_count": 2,
   "id": "998bf45b",
   "metadata": {
    "execution": {
     "iopub.execute_input": "2023-08-10T13:20:49.047638Z",
     "iopub.status.busy": "2023-08-10T13:20:49.047168Z",
     "iopub.status.idle": "2023-08-10T13:20:49.078783Z",
     "shell.execute_reply": "2023-08-10T13:20:49.077731Z"
    },
    "id": "ZqfVvi51bBZt",
    "papermill": {
     "duration": 0.042045,
     "end_time": "2023-08-10T13:20:49.081402",
     "exception": false,
     "start_time": "2023-08-10T13:20:49.039357",
     "status": "completed"
    },
    "tags": []
   },
   "outputs": [],
   "source": [
    "# Loading the dataset\n",
    "data = pd.read_csv('/kaggle/input/lung-cancer-dataset/lung_cancer_examples.csv')"
   ]
  },
  {
   "cell_type": "markdown",
   "id": "19ea5ec8",
   "metadata": {
    "papermill": {
     "duration": 0.005999,
     "end_time": "2023-08-10T13:20:49.093798",
     "exception": false,
     "start_time": "2023-08-10T13:20:49.087799",
     "status": "completed"
    },
    "tags": []
   },
   "source": [
    "### Handling Missing Values:\n",
    "\n",
    "**data.dropna(inplace=True):** Drops rows with missing values from the DataFrame data in place."
   ]
  },
  {
   "cell_type": "code",
   "execution_count": 3,
   "id": "f6b64046",
   "metadata": {
    "execution": {
     "iopub.execute_input": "2023-08-10T13:20:49.108297Z",
     "iopub.status.busy": "2023-08-10T13:20:49.107375Z",
     "iopub.status.idle": "2023-08-10T13:20:49.115090Z",
     "shell.execute_reply": "2023-08-10T13:20:49.114155Z"
    },
    "papermill": {
     "duration": 0.017794,
     "end_time": "2023-08-10T13:20:49.117773",
     "exception": false,
     "start_time": "2023-08-10T13:20:49.099979",
     "status": "completed"
    },
    "tags": []
   },
   "outputs": [],
   "source": [
    "# Handling the missing values\n",
    "data.dropna(inplace=True)"
   ]
  },
  {
   "cell_type": "markdown",
   "id": "539cd311",
   "metadata": {
    "papermill": {
     "duration": 0.005996,
     "end_time": "2023-08-10T13:20:49.130184",
     "exception": false,
     "start_time": "2023-08-10T13:20:49.124188",
     "status": "completed"
    },
    "tags": []
   },
   "source": [
    "### Encoding Categorical Variables:\n",
    "\n",
    "Two LabelEncoder instances (label_encoder_smokes and label_encoder_areaq) are created.\n",
    "1. **data['Smokes'] = label_encoder_smokes.fit_transform(data['Smokes']):** Encodes the 'Smokes' column in the DataFrame using the fit_transform method of the label_encoder_smokes.\n",
    "1. **data['AreaQ'] = label_encoder_areaq.fit_transform(data['AreaQ']):** Encodes the 'AreaQ' column in the DataFrame using the fit_transform method of the label_encoder_areaq."
   ]
  },
  {
   "cell_type": "code",
   "execution_count": 4,
   "id": "ac4bf706",
   "metadata": {
    "execution": {
     "iopub.execute_input": "2023-08-10T13:20:49.145447Z",
     "iopub.status.busy": "2023-08-10T13:20:49.144860Z",
     "iopub.status.idle": "2023-08-10T13:20:49.159894Z",
     "shell.execute_reply": "2023-08-10T13:20:49.158699Z"
    },
    "papermill": {
     "duration": 0.026033,
     "end_time": "2023-08-10T13:20:49.162527",
     "exception": false,
     "start_time": "2023-08-10T13:20:49.136494",
     "status": "completed"
    },
    "tags": []
   },
   "outputs": [],
   "source": [
    "# Encoding the categorical variables\n",
    "label_encoder_smokes = LabelEncoder()\n",
    "label_encoder_areaq = LabelEncoder()\n",
    "\n",
    "data['Smokes'] = label_encoder_smokes.fit_transform(data['Smokes'])\n",
    "data['AreaQ'] = label_encoder_areaq.fit_transform(data['AreaQ'])"
   ]
  },
  {
   "cell_type": "markdown",
   "id": "9a350d03",
   "metadata": {
    "papermill": {
     "duration": 0.006255,
     "end_time": "2023-08-10T13:20:49.175461",
     "exception": false,
     "start_time": "2023-08-10T13:20:49.169206",
     "status": "completed"
    },
    "tags": []
   },
   "source": [
    "### Splitting Data:\n",
    "\n",
    "**X = data.drop(['Name', 'Surname', 'Result'], axis=1):** Creates the feature matrix X by dropping the 'Name', 'Surname', and 'Result' columns from the DataFrame.\n",
    "**y = data['Result']:** Creates the target vector y containing the 'Result' column."
   ]
  },
  {
   "cell_type": "code",
   "execution_count": 5,
   "id": "53cc145e",
   "metadata": {
    "execution": {
     "iopub.execute_input": "2023-08-10T13:20:49.191124Z",
     "iopub.status.busy": "2023-08-10T13:20:49.189919Z",
     "iopub.status.idle": "2023-08-10T13:20:49.203911Z",
     "shell.execute_reply": "2023-08-10T13:20:49.202339Z"
    },
    "papermill": {
     "duration": 0.024693,
     "end_time": "2023-08-10T13:20:49.206831",
     "exception": false,
     "start_time": "2023-08-10T13:20:49.182138",
     "status": "completed"
    },
    "tags": []
   },
   "outputs": [],
   "source": [
    "# Split the data into features (X) and target (y)\n",
    "X = data.drop(['Name', 'Surname', 'Result'], axis=1)\n",
    "y = data['Result']"
   ]
  },
  {
   "cell_type": "markdown",
   "id": "1256e3f1",
   "metadata": {
    "papermill": {
     "duration": 0.00591,
     "end_time": "2023-08-10T13:20:49.220400",
     "exception": false,
     "start_time": "2023-08-10T13:20:49.214490",
     "status": "completed"
    },
    "tags": []
   },
   "source": [
    "### Splitting into Training and Testing Sets:\n",
    "\n",
    "**X_train, X_test, y_train, y_test = train_test_split(X, y, test_size=0.2, random_state=42):** Splits the data into training and testing sets using an 80-20 split ratio and a fixed random seed (42)."
   ]
  },
  {
   "cell_type": "code",
   "execution_count": 6,
   "id": "6fbc5b18",
   "metadata": {
    "execution": {
     "iopub.execute_input": "2023-08-10T13:20:49.234736Z",
     "iopub.status.busy": "2023-08-10T13:20:49.234335Z",
     "iopub.status.idle": "2023-08-10T13:20:49.242321Z",
     "shell.execute_reply": "2023-08-10T13:20:49.240857Z"
    },
    "papermill": {
     "duration": 0.01843,
     "end_time": "2023-08-10T13:20:49.244994",
     "exception": false,
     "start_time": "2023-08-10T13:20:49.226564",
     "status": "completed"
    },
    "tags": []
   },
   "outputs": [],
   "source": [
    "# Split into training and testing sets\n",
    "X_train, X_test, y_train, y_test = train_test_split(X, y, test_size=0.2, random_state=42)"
   ]
  },
  {
   "cell_type": "markdown",
   "id": "1404f137",
   "metadata": {
    "papermill": {
     "duration": 0.005903,
     "end_time": "2023-08-10T13:20:49.257508",
     "exception": false,
     "start_time": "2023-08-10T13:20:49.251605",
     "status": "completed"
    },
    "tags": []
   },
   "source": [
    "### Initializing and Training the Random Forest Classifier:\n",
    "\n",
    "1. **rf_classifier = RandomForestClassifier(random_state=42):** Initializes a Random Forest classifier with a fixed random seed.\n",
    "1. **rf_classifier.fit(X_train, y_train):** Trains the Random Forest classifier using the training data."
   ]
  },
  {
   "cell_type": "code",
   "execution_count": 7,
   "id": "64564471",
   "metadata": {
    "execution": {
     "iopub.execute_input": "2023-08-10T13:20:49.271653Z",
     "iopub.status.busy": "2023-08-10T13:20:49.271204Z",
     "iopub.status.idle": "2023-08-10T13:20:49.275698Z",
     "shell.execute_reply": "2023-08-10T13:20:49.274757Z"
    },
    "papermill": {
     "duration": 0.014367,
     "end_time": "2023-08-10T13:20:49.277986",
     "exception": false,
     "start_time": "2023-08-10T13:20:49.263619",
     "status": "completed"
    },
    "tags": []
   },
   "outputs": [],
   "source": [
    "# Initialize the Random Forest classifier\n",
    "rf_classifier = RandomForestClassifier(random_state=42)"
   ]
  },
  {
   "cell_type": "code",
   "execution_count": 8,
   "id": "bdc74e1b",
   "metadata": {
    "execution": {
     "iopub.execute_input": "2023-08-10T13:20:49.294227Z",
     "iopub.status.busy": "2023-08-10T13:20:49.292792Z",
     "iopub.status.idle": "2023-08-10T13:20:49.529885Z",
     "shell.execute_reply": "2023-08-10T13:20:49.528595Z"
    },
    "papermill": {
     "duration": 0.24761,
     "end_time": "2023-08-10T13:20:49.532562",
     "exception": false,
     "start_time": "2023-08-10T13:20:49.284952",
     "status": "completed"
    },
    "tags": []
   },
   "outputs": [
    {
     "data": {
      "text/html": [
       "<style>#sk-container-id-1 {color: black;background-color: white;}#sk-container-id-1 pre{padding: 0;}#sk-container-id-1 div.sk-toggleable {background-color: white;}#sk-container-id-1 label.sk-toggleable__label {cursor: pointer;display: block;width: 100%;margin-bottom: 0;padding: 0.3em;box-sizing: border-box;text-align: center;}#sk-container-id-1 label.sk-toggleable__label-arrow:before {content: \"▸\";float: left;margin-right: 0.25em;color: #696969;}#sk-container-id-1 label.sk-toggleable__label-arrow:hover:before {color: black;}#sk-container-id-1 div.sk-estimator:hover label.sk-toggleable__label-arrow:before {color: black;}#sk-container-id-1 div.sk-toggleable__content {max-height: 0;max-width: 0;overflow: hidden;text-align: left;background-color: #f0f8ff;}#sk-container-id-1 div.sk-toggleable__content pre {margin: 0.2em;color: black;border-radius: 0.25em;background-color: #f0f8ff;}#sk-container-id-1 input.sk-toggleable__control:checked~div.sk-toggleable__content {max-height: 200px;max-width: 100%;overflow: auto;}#sk-container-id-1 input.sk-toggleable__control:checked~label.sk-toggleable__label-arrow:before {content: \"▾\";}#sk-container-id-1 div.sk-estimator input.sk-toggleable__control:checked~label.sk-toggleable__label {background-color: #d4ebff;}#sk-container-id-1 div.sk-label input.sk-toggleable__control:checked~label.sk-toggleable__label {background-color: #d4ebff;}#sk-container-id-1 input.sk-hidden--visually {border: 0;clip: rect(1px 1px 1px 1px);clip: rect(1px, 1px, 1px, 1px);height: 1px;margin: -1px;overflow: hidden;padding: 0;position: absolute;width: 1px;}#sk-container-id-1 div.sk-estimator {font-family: monospace;background-color: #f0f8ff;border: 1px dotted black;border-radius: 0.25em;box-sizing: border-box;margin-bottom: 0.5em;}#sk-container-id-1 div.sk-estimator:hover {background-color: #d4ebff;}#sk-container-id-1 div.sk-parallel-item::after {content: \"\";width: 100%;border-bottom: 1px solid gray;flex-grow: 1;}#sk-container-id-1 div.sk-label:hover label.sk-toggleable__label {background-color: #d4ebff;}#sk-container-id-1 div.sk-serial::before {content: \"\";position: absolute;border-left: 1px solid gray;box-sizing: border-box;top: 0;bottom: 0;left: 50%;z-index: 0;}#sk-container-id-1 div.sk-serial {display: flex;flex-direction: column;align-items: center;background-color: white;padding-right: 0.2em;padding-left: 0.2em;position: relative;}#sk-container-id-1 div.sk-item {position: relative;z-index: 1;}#sk-container-id-1 div.sk-parallel {display: flex;align-items: stretch;justify-content: center;background-color: white;position: relative;}#sk-container-id-1 div.sk-item::before, #sk-container-id-1 div.sk-parallel-item::before {content: \"\";position: absolute;border-left: 1px solid gray;box-sizing: border-box;top: 0;bottom: 0;left: 50%;z-index: -1;}#sk-container-id-1 div.sk-parallel-item {display: flex;flex-direction: column;z-index: 1;position: relative;background-color: white;}#sk-container-id-1 div.sk-parallel-item:first-child::after {align-self: flex-end;width: 50%;}#sk-container-id-1 div.sk-parallel-item:last-child::after {align-self: flex-start;width: 50%;}#sk-container-id-1 div.sk-parallel-item:only-child::after {width: 0;}#sk-container-id-1 div.sk-dashed-wrapped {border: 1px dashed gray;margin: 0 0.4em 0.5em 0.4em;box-sizing: border-box;padding-bottom: 0.4em;background-color: white;}#sk-container-id-1 div.sk-label label {font-family: monospace;font-weight: bold;display: inline-block;line-height: 1.2em;}#sk-container-id-1 div.sk-label-container {text-align: center;}#sk-container-id-1 div.sk-container {/* jupyter's `normalize.less` sets `[hidden] { display: none; }` but bootstrap.min.css set `[hidden] { display: none !important; }` so we also need the `!important` here to be able to override the default hidden behavior on the sphinx rendered scikit-learn.org. See: https://github.com/scikit-learn/scikit-learn/issues/21755 */display: inline-block !important;position: relative;}#sk-container-id-1 div.sk-text-repr-fallback {display: none;}</style><div id=\"sk-container-id-1\" class=\"sk-top-container\"><div class=\"sk-text-repr-fallback\"><pre>RandomForestClassifier(random_state=42)</pre><b>In a Jupyter environment, please rerun this cell to show the HTML representation or trust the notebook. <br />On GitHub, the HTML representation is unable to render, please try loading this page with nbviewer.org.</b></div><div class=\"sk-container\" hidden><div class=\"sk-item\"><div class=\"sk-estimator sk-toggleable\"><input class=\"sk-toggleable__control sk-hidden--visually\" id=\"sk-estimator-id-1\" type=\"checkbox\" checked><label for=\"sk-estimator-id-1\" class=\"sk-toggleable__label sk-toggleable__label-arrow\">RandomForestClassifier</label><div class=\"sk-toggleable__content\"><pre>RandomForestClassifier(random_state=42)</pre></div></div></div></div></div>"
      ],
      "text/plain": [
       "RandomForestClassifier(random_state=42)"
      ]
     },
     "execution_count": 8,
     "metadata": {},
     "output_type": "execute_result"
    }
   ],
   "source": [
    "# Train the model\n",
    "rf_classifier.fit(X_train, y_train)"
   ]
  },
  {
   "cell_type": "markdown",
   "id": "01abc931",
   "metadata": {
    "papermill": {
     "duration": 0.006221,
     "end_time": "2023-08-10T13:20:49.545304",
     "exception": false,
     "start_time": "2023-08-10T13:20:49.539083",
     "status": "completed"
    },
    "tags": []
   },
   "source": [
    "### Saving the Model and Label Encoders:\n",
    "\n",
    "1. **joblib.dump(rf_classifier, '/kaggle/working/lung_cancer_model.pkl'):** Saves the trained Random Forest model to a file named \"lung_cancer_model.pkl\" in your Google Drive.\n",
    "1. **joblib.dump(label_encoder_smokes, '/kaggle/working/MyDrive/label_encoder_smokes.pkl'):** Saves the label encoder for 'Smokes' to a file named \"label_encoder_smokes.pkl\" in your Google Drive.\n",
    "1. **joblib.dump(label_encoder_areaq, '//kaggle/working/label_encoder_areaq.pkl'):** Saves the label encoder for 'AreaQ' to a file named \"label_encoder_areaq.pkl\" in your Google Drive."
   ]
  },
  {
   "cell_type": "code",
   "execution_count": 9,
   "id": "e09c0d0f",
   "metadata": {
    "execution": {
     "iopub.execute_input": "2023-08-10T13:20:49.561016Z",
     "iopub.status.busy": "2023-08-10T13:20:49.559851Z",
     "iopub.status.idle": "2023-08-10T13:20:49.645170Z",
     "shell.execute_reply": "2023-08-10T13:20:49.643998Z"
    },
    "papermill": {
     "duration": 0.096108,
     "end_time": "2023-08-10T13:20:49.647963",
     "exception": false,
     "start_time": "2023-08-10T13:20:49.551855",
     "status": "completed"
    },
    "tags": []
   },
   "outputs": [
    {
     "data": {
      "text/plain": [
       "['/kaggle/working/label_encoder_areaq.pkl']"
      ]
     },
     "execution_count": 9,
     "metadata": {},
     "output_type": "execute_result"
    }
   ],
   "source": [
    "# Save the trained model\n",
    "joblib.dump(rf_classifier, '/kaggle/working/lung_cancer_model.pkl')\n",
    "\n",
    "# Save the label encoders\n",
    "joblib.dump(label_encoder_smokes, '/kaggle/working/label_encoder_smokes.pkl')\n",
    "joblib.dump(label_encoder_areaq, '/kaggle/working/label_encoder_areaq.pkl')"
   ]
  },
  {
   "cell_type": "markdown",
   "id": "d694f7c2",
   "metadata": {
    "papermill": {
     "duration": 0.006487,
     "end_time": "2023-08-10T13:20:49.661135",
     "exception": false,
     "start_time": "2023-08-10T13:20:49.654648",
     "status": "completed"
    },
    "tags": []
   },
   "source": [
    "### Making Predictions and Evaluating the Model:\n",
    "\n",
    "**y_pred = rf_classifier.predict(X_test):** Predicts the target values for the test features.\n",
    "accuracy = accuracy_score(y_test, y_pred): Calculates the accuracy of the model's predictions compared to the true labels.\n",
    "print(f'Accuracy: {accuracy:.2f}'): Prints the accuracy score rounded to two decimal places."
   ]
  },
  {
   "cell_type": "code",
   "execution_count": 10,
   "id": "6cdf9ac1",
   "metadata": {
    "execution": {
     "iopub.execute_input": "2023-08-10T13:20:49.676424Z",
     "iopub.status.busy": "2023-08-10T13:20:49.675961Z",
     "iopub.status.idle": "2023-08-10T13:20:49.701897Z",
     "shell.execute_reply": "2023-08-10T13:20:49.700805Z"
    },
    "papermill": {
     "duration": 0.036493,
     "end_time": "2023-08-10T13:20:49.704376",
     "exception": false,
     "start_time": "2023-08-10T13:20:49.667883",
     "status": "completed"
    },
    "tags": []
   },
   "outputs": [
    {
     "name": "stdout",
     "output_type": "stream",
     "text": [
      "Accuracy: 0.92\n"
     ]
    }
   ],
   "source": [
    "# Predict on the test set\n",
    "y_pred = rf_classifier.predict(X_test)\n",
    "\n",
    "# Evaluate the model\n",
    "accuracy = accuracy_score(y_test, y_pred)\n",
    "print(f'Accuracy: {accuracy:.2f}')"
   ]
  }
 ],
 "metadata": {
  "kernelspec": {
   "display_name": "Python 3",
   "language": "python",
   "name": "python3"
  },
  "language_info": {
   "codemirror_mode": {
    "name": "ipython",
    "version": 3
   },
   "file_extension": ".py",
   "mimetype": "text/x-python",
   "name": "python",
   "nbconvert_exporter": "python",
   "pygments_lexer": "ipython3",
   "version": "3.10.12"
  },
  "papermill": {
   "default_parameters": {},
   "duration": 16.364657,
   "end_time": "2023-08-10T13:20:50.735526",
   "environment_variables": {},
   "exception": null,
   "input_path": "__notebook__.ipynb",
   "output_path": "__notebook__.ipynb",
   "parameters": {},
   "start_time": "2023-08-10T13:20:34.370869",
   "version": "2.4.0"
  }
 },
 "nbformat": 4,
 "nbformat_minor": 5
}
